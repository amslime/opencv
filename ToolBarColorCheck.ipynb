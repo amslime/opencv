{
 "cells": [
  {
   "cell_type": "code",
   "execution_count": 1,
   "metadata": {},
   "outputs": [],
   "source": [
    "\n",
    "\n",
    "import numpy as np\n",
    "import cv2\n",
    "\n",
    "bar_names = ['min1', 'max1', 'min2', 'max2', 'min3', 'max3']\n",
    "\n",
    "def on_change(arg):\n",
    "    vals = []\n",
    "    for name in bar_names:\n",
    "        vals.append(cv2.getTrackbarPos(name, 'img'))\n",
    "    hsv = cv2.cvtColor(img, cv2.COLOR_BGR2HSV)  \n",
    "    lower_red = np.array([vals[0], vals[2], vals[4]]) \n",
    "    upper_red = np.array([vals[1], vals[3], vals[5]]) \n",
    "    mask = cv2.inRange(hsv, lower_red, upper_red)\n",
    "    cv2.imshow('img', mask)\n",
    "\n",
    "\n",
    "img = cv2.imread(\"/home/w/SampleImages/imgs/4.JPG\", 1 )\n",
    "\n",
    "orig = img.copy()\n",
    "\n",
    "cv2.namedWindow('img', cv2.WINDOW_NORMAL)\n",
    "\n",
    "\n",
    "\n",
    "hsv = cv2.cvtColor(img, cv2.COLOR_BGR2HSV)  \n",
    "lower_red = np.array([40, 20, 90]) \n",
    "upper_red = np.array([120, 120, 240]) \n",
    "mask = cv2.inRange(hsv, lower_red, upper_red)\n",
    "\n",
    "for name in bar_names:\n",
    "    cv2.createTrackbar(name, 'img', 0, 255, on_change)\n",
    "\n",
    "\n",
    "on_change(0)\n",
    "cv2.waitKey(0)\n",
    "cv2.destroyAllWindows()"
   ]
  },
  {
   "cell_type": "code",
   "execution_count": null,
   "metadata": {},
   "outputs": [],
   "source": []
  }
 ],
 "metadata": {
  "kernelspec": {
   "display_name": "Python 3",
   "language": "python",
   "name": "python3"
  },
  "language_info": {
   "codemirror_mode": {
    "name": "ipython",
    "version": 3
   },
   "file_extension": ".py",
   "mimetype": "text/x-python",
   "name": "python",
   "nbconvert_exporter": "python",
   "pygments_lexer": "ipython3",
   "version": "3.6.4"
  }
 },
 "nbformat": 4,
 "nbformat_minor": 2
}
